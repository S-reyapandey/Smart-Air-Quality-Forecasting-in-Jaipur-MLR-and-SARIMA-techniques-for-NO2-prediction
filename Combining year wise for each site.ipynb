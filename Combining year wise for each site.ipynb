{
  "nbformat": 4,
  "nbformat_minor": 0,
  "metadata": {
    "colab": {
      "provenance": []
    },
    "kernelspec": {
      "name": "python3",
      "display_name": "Python 3"
    },
    "language_info": {
      "name": "python"
    }
  },
  "cells": [
    {
      "cell_type": "code",
      "execution_count": null,
      "metadata": {
        "id": "cvzeJvEHqola"
      },
      "outputs": [],
      "source": [
        "import pandas as pd\n",
        "import glob\n",
        "from google.colab import files\n",
        "from datetime import datetime"
      ]
    },
    {
      "cell_type": "code",
      "source": [
        "uploaded = files.upload()"
      ],
      "metadata": {
        "colab": {
          "base_uri": "https://localhost:8080/",
          "height": 108
        },
        "id": "K_XbHnmSrxcn",
        "outputId": "18b57df8-5c4d-4d49-b8a1-b79cad503ac7"
      },
      "execution_count": null,
      "outputs": [
        {
          "output_type": "display_data",
          "data": {
            "text/plain": [
              "<IPython.core.display.HTML object>"
            ],
            "text/html": [
              "\n",
              "     <input type=\"file\" id=\"files-d3bfa533-2ef2-43c5-8c4b-8c672dbd8aa1\" name=\"files[]\" multiple disabled\n",
              "        style=\"border:none\" />\n",
              "     <output id=\"result-d3bfa533-2ef2-43c5-8c4b-8c672dbd8aa1\">\n",
              "      Upload widget is only available when the cell has been executed in the\n",
              "      current browser session. Please rerun this cell to enable.\n",
              "      </output>\n",
              "      <script>// Copyright 2017 Google LLC\n",
              "//\n",
              "// Licensed under the Apache License, Version 2.0 (the \"License\");\n",
              "// you may not use this file except in compliance with the License.\n",
              "// You may obtain a copy of the License at\n",
              "//\n",
              "//      http://www.apache.org/licenses/LICENSE-2.0\n",
              "//\n",
              "// Unless required by applicable law or agreed to in writing, software\n",
              "// distributed under the License is distributed on an \"AS IS\" BASIS,\n",
              "// WITHOUT WARRANTIES OR CONDITIONS OF ANY KIND, either express or implied.\n",
              "// See the License for the specific language governing permissions and\n",
              "// limitations under the License.\n",
              "\n",
              "/**\n",
              " * @fileoverview Helpers for google.colab Python module.\n",
              " */\n",
              "(function(scope) {\n",
              "function span(text, styleAttributes = {}) {\n",
              "  const element = document.createElement('span');\n",
              "  element.textContent = text;\n",
              "  for (const key of Object.keys(styleAttributes)) {\n",
              "    element.style[key] = styleAttributes[key];\n",
              "  }\n",
              "  return element;\n",
              "}\n",
              "\n",
              "// Max number of bytes which will be uploaded at a time.\n",
              "const MAX_PAYLOAD_SIZE = 100 * 1024;\n",
              "\n",
              "function _uploadFiles(inputId, outputId) {\n",
              "  const steps = uploadFilesStep(inputId, outputId);\n",
              "  const outputElement = document.getElementById(outputId);\n",
              "  // Cache steps on the outputElement to make it available for the next call\n",
              "  // to uploadFilesContinue from Python.\n",
              "  outputElement.steps = steps;\n",
              "\n",
              "  return _uploadFilesContinue(outputId);\n",
              "}\n",
              "\n",
              "// This is roughly an async generator (not supported in the browser yet),\n",
              "// where there are multiple asynchronous steps and the Python side is going\n",
              "// to poll for completion of each step.\n",
              "// This uses a Promise to block the python side on completion of each step,\n",
              "// then passes the result of the previous step as the input to the next step.\n",
              "function _uploadFilesContinue(outputId) {\n",
              "  const outputElement = document.getElementById(outputId);\n",
              "  const steps = outputElement.steps;\n",
              "\n",
              "  const next = steps.next(outputElement.lastPromiseValue);\n",
              "  return Promise.resolve(next.value.promise).then((value) => {\n",
              "    // Cache the last promise value to make it available to the next\n",
              "    // step of the generator.\n",
              "    outputElement.lastPromiseValue = value;\n",
              "    return next.value.response;\n",
              "  });\n",
              "}\n",
              "\n",
              "/**\n",
              " * Generator function which is called between each async step of the upload\n",
              " * process.\n",
              " * @param {string} inputId Element ID of the input file picker element.\n",
              " * @param {string} outputId Element ID of the output display.\n",
              " * @return {!Iterable<!Object>} Iterable of next steps.\n",
              " */\n",
              "function* uploadFilesStep(inputId, outputId) {\n",
              "  const inputElement = document.getElementById(inputId);\n",
              "  inputElement.disabled = false;\n",
              "\n",
              "  const outputElement = document.getElementById(outputId);\n",
              "  outputElement.innerHTML = '';\n",
              "\n",
              "  const pickedPromise = new Promise((resolve) => {\n",
              "    inputElement.addEventListener('change', (e) => {\n",
              "      resolve(e.target.files);\n",
              "    });\n",
              "  });\n",
              "\n",
              "  const cancel = document.createElement('button');\n",
              "  inputElement.parentElement.appendChild(cancel);\n",
              "  cancel.textContent = 'Cancel upload';\n",
              "  const cancelPromise = new Promise((resolve) => {\n",
              "    cancel.onclick = () => {\n",
              "      resolve(null);\n",
              "    };\n",
              "  });\n",
              "\n",
              "  // Wait for the user to pick the files.\n",
              "  const files = yield {\n",
              "    promise: Promise.race([pickedPromise, cancelPromise]),\n",
              "    response: {\n",
              "      action: 'starting',\n",
              "    }\n",
              "  };\n",
              "\n",
              "  cancel.remove();\n",
              "\n",
              "  // Disable the input element since further picks are not allowed.\n",
              "  inputElement.disabled = true;\n",
              "\n",
              "  if (!files) {\n",
              "    return {\n",
              "      response: {\n",
              "        action: 'complete',\n",
              "      }\n",
              "    };\n",
              "  }\n",
              "\n",
              "  for (const file of files) {\n",
              "    const li = document.createElement('li');\n",
              "    li.append(span(file.name, {fontWeight: 'bold'}));\n",
              "    li.append(span(\n",
              "        `(${file.type || 'n/a'}) - ${file.size} bytes, ` +\n",
              "        `last modified: ${\n",
              "            file.lastModifiedDate ? file.lastModifiedDate.toLocaleDateString() :\n",
              "                                    'n/a'} - `));\n",
              "    const percent = span('0% done');\n",
              "    li.appendChild(percent);\n",
              "\n",
              "    outputElement.appendChild(li);\n",
              "\n",
              "    const fileDataPromise = new Promise((resolve) => {\n",
              "      const reader = new FileReader();\n",
              "      reader.onload = (e) => {\n",
              "        resolve(e.target.result);\n",
              "      };\n",
              "      reader.readAsArrayBuffer(file);\n",
              "    });\n",
              "    // Wait for the data to be ready.\n",
              "    let fileData = yield {\n",
              "      promise: fileDataPromise,\n",
              "      response: {\n",
              "        action: 'continue',\n",
              "      }\n",
              "    };\n",
              "\n",
              "    // Use a chunked sending to avoid message size limits. See b/62115660.\n",
              "    let position = 0;\n",
              "    do {\n",
              "      const length = Math.min(fileData.byteLength - position, MAX_PAYLOAD_SIZE);\n",
              "      const chunk = new Uint8Array(fileData, position, length);\n",
              "      position += length;\n",
              "\n",
              "      const base64 = btoa(String.fromCharCode.apply(null, chunk));\n",
              "      yield {\n",
              "        response: {\n",
              "          action: 'append',\n",
              "          file: file.name,\n",
              "          data: base64,\n",
              "        },\n",
              "      };\n",
              "\n",
              "      let percentDone = fileData.byteLength === 0 ?\n",
              "          100 :\n",
              "          Math.round((position / fileData.byteLength) * 100);\n",
              "      percent.textContent = `${percentDone}% done`;\n",
              "\n",
              "    } while (position < fileData.byteLength);\n",
              "  }\n",
              "\n",
              "  // All done.\n",
              "  yield {\n",
              "    response: {\n",
              "      action: 'complete',\n",
              "    }\n",
              "  };\n",
              "}\n",
              "\n",
              "scope.google = scope.google || {};\n",
              "scope.google.colab = scope.google.colab || {};\n",
              "scope.google.colab._files = {\n",
              "  _uploadFiles,\n",
              "  _uploadFilesContinue,\n",
              "};\n",
              "})(self);\n",
              "</script> "
            ]
          },
          "metadata": {}
        },
        {
          "output_type": "stream",
          "name": "stdout",
          "text": [
            "Saving Mansarovar2024.csv to Mansarovar2024.csv\n",
            "Saving Mansarovar2023.csv to Mansarovar2023.csv\n"
          ]
        }
      ]
    },
    {
      "cell_type": "code",
      "source": [
        "# 2. Get all CSV file paths\n",
        "file_paths = glob.glob(\"/content/*.csv\")\n",
        "print(f\"Found {len(file_paths)} CSV files to merge\")"
      ],
      "metadata": {
        "id": "Qn_DyZASrdJd",
        "colab": {
          "base_uri": "https://localhost:8080/"
        },
        "outputId": "77ae798f-f4df-4f85-df92-affc29394307"
      },
      "execution_count": null,
      "outputs": [
        {
          "output_type": "stream",
          "name": "stdout",
          "text": [
            "Found 2 CSV files to merge\n"
          ]
        }
      ]
    },
    {
      "cell_type": "code",
      "source": [
        "# 3. Function to standardize timestamp format\n",
        "def standardize_timestamp(ts):\n",
        "    try:\n",
        "        # Try parsing with dayfirst=True (DD-MM-YYYY)\n",
        "        dt = pd.to_datetime(ts, dayfirst=True)\n",
        "        return dt.strftime('%d-%m-%Y %H:%M')\n",
        "    except:\n",
        "        try:\n",
        "            # Try parsing ISO format (YYYY-MM-DD)\n",
        "            dt = pd.to_datetime(ts)\n",
        "            return dt.strftime('%d-%m-%Y %H:%M')\n",
        "        except:\n",
        "            # Try parsing other common formats\n",
        "            for fmt in ['%Y-%m-%d %H:%M:%S', '%m/%d/%Y %H:%M', '%d-%m-%Y %H:%M:%S']:\n",
        "                try:\n",
        "                    dt = datetime.strptime(ts, fmt)\n",
        "                    return dt.strftime('%d-%m-%Y %H:%M')\n",
        "                except:\n",
        "                    continue\n",
        "            return None\n"
      ],
      "metadata": {
        "id": "P8Bdz9Kmcb3t"
      },
      "execution_count": null,
      "outputs": []
    },
    {
      "cell_type": "code",
      "source": [
        "# 4. Read and combine files with standardized timestamps\n",
        "df_list = []\n",
        "for file in file_paths:\n",
        "    try:\n",
        "        # Read CSV without automatic date parsing\n",
        "        temp_df = pd.read_csv(file)\n",
        "\n",
        "        # Standardize timestamp format\n",
        "        temp_df['Timestamp'] = temp_df['Timestamp'].apply(standardize_timestamp)\n",
        "\n",
        "        # Convert to datetime object for proper sorting\n",
        "        temp_df['Timestamp'] = pd.to_datetime(temp_df['Timestamp'], format='%d-%m-%Y %H:%M')\n",
        "\n",
        "        # Drop rows with invalid timestamps\n",
        "        temp_df = temp_df.dropna(subset=['Timestamp'])\n",
        "\n",
        "        df_list.append(temp_df)\n",
        "        print(f\"Successfully processed {file} with {len(temp_df)} rows\")\n",
        "    except Exception as e:\n",
        "        print(f\"Error processing {file}: {str(e)}\")"
      ],
      "metadata": {
        "id": "X4DASq_SrdMA",
        "colab": {
          "base_uri": "https://localhost:8080/"
        },
        "outputId": "4f83028f-6448-42b9-e376-5cac21bef3bd"
      },
      "execution_count": null,
      "outputs": [
        {
          "output_type": "stream",
          "name": "stderr",
          "text": [
            "<ipython-input-4-c2157148167d>:5: UserWarning: Parsing dates in %Y-%m-%d %H:%M:%S format when dayfirst=True was specified. Pass `dayfirst=False` or specify a format to silence this warning.\n",
            "  dt = pd.to_datetime(ts, dayfirst=True)\n"
          ]
        },
        {
          "output_type": "stream",
          "name": "stdout",
          "text": [
            "Successfully processed /content/Mansarovar2023.csv with 8760 rows\n"
          ]
        },
        {
          "output_type": "stream",
          "name": "stderr",
          "text": [
            "<ipython-input-4-c2157148167d>:5: UserWarning: Parsing dates in %Y-%m-%d %H:%M:%S format when dayfirst=True was specified. Pass `dayfirst=False` or specify a format to silence this warning.\n",
            "  dt = pd.to_datetime(ts, dayfirst=True)\n"
          ]
        },
        {
          "output_type": "stream",
          "name": "stdout",
          "text": [
            "Successfully processed /content/Mansarovar2024.csv with 8784 rows\n"
          ]
        }
      ]
    },
    {
      "cell_type": "code",
      "source": [
        "# Add this before merging to ensure all files have same columns\n",
        "common_columns = set(df_list[0].columns)\n",
        "for df in df_list[1:]:\n",
        "    common_columns.intersection_update(df.columns)\n",
        "print(\"Common columns across all files:\", common_columns)"
      ],
      "metadata": {
        "colab": {
          "base_uri": "https://localhost:8080/"
        },
        "id": "OvTWE9yxUv1o",
        "outputId": "107c39a0-b9dd-4a24-ff8d-641aed239b68"
      },
      "execution_count": null,
      "outputs": [
        {
          "output_type": "stream",
          "name": "stdout",
          "text": [
            "Common columns across all files: {'NO2 (µg/m³)', 'RH (%)', 'BP (mmHg)', 'AT (°C)', 'NH3 (µg/m³)', 'SR (W/mt2)', 'SO2 (µg/m³)', 'PM2.5 (µg/m³)', 'Season', 'Timestamp', 'WD (deg)', 'CO (mg/m³)', 'PM10 (µg/m³)', 'WS (m/s)', 'Month', 'Ozone (µg/m³)'}\n"
          ]
        }
      ]
    },
    {
      "cell_type": "code",
      "source": [
        "# 4. Combine all dataframes\n",
        "merged_df = pd.concat(df_list, ignore_index=True)"
      ],
      "metadata": {
        "id": "RuIeBGQ63NiP"
      },
      "execution_count": null,
      "outputs": []
    },
    {
      "cell_type": "code",
      "source": [
        "# 5. Sort by timestamp and clean up\n",
        "merged_df = merged_df.sort_values(by=\"Timestamp\").reset_index(drop=True)"
      ],
      "metadata": {
        "id": "oEx-OI6gw4nA"
      },
      "execution_count": null,
      "outputs": []
    },
    {
      "cell_type": "code",
      "source": [
        "# 6. Verify the combined data\n",
        "print(\"\\nCombined Data Summary:\")\n",
        "print(f\"Total rows: {len(merged_df)}\")\n",
        "print(f\"Date range: {merged_df['Timestamp'].min()} to {merged_df['Timestamp'].max()}\")\n",
        "print(\"\\nMissing values per column:\")\n",
        "print(merged_df.isnull().sum())"
      ],
      "metadata": {
        "id": "b0bmhluVrdRW",
        "colab": {
          "base_uri": "https://localhost:8080/"
        },
        "outputId": "af118866-a74d-4f90-b52d-3ea7732f7fed"
      },
      "execution_count": null,
      "outputs": [
        {
          "output_type": "stream",
          "name": "stdout",
          "text": [
            "\n",
            "Combined Data Summary:\n",
            "Total rows: 17544\n",
            "Date range: 2023-01-01 00:00:00 to 2024-12-31 23:00:00\n",
            "\n",
            "Missing values per column:\n",
            "Timestamp            0\n",
            "PM2.5 (µg/m³)        0\n",
            "PM10 (µg/m³)         0\n",
            "NO2 (µg/m³)          0\n",
            "NH3 (µg/m³)          0\n",
            "SO2 (µg/m³)          0\n",
            "CO (mg/m³)           0\n",
            "Ozone (µg/m³)        0\n",
            "AT (°C)              0\n",
            "RH (%)               0\n",
            "WS (m/s)             0\n",
            "WD (deg)             0\n",
            "SR (W/mt2)           0\n",
            "BP (mmHg)        17544\n",
            "Month                0\n",
            "Season               0\n",
            "dtype: int64\n"
          ]
        }
      ]
    },
    {
      "cell_type": "code",
      "source": [
        "# 7. Save the merged file\n",
        "output_file = \"merged_all_yearsMansarovar.csv\"\n",
        "merged_df.to_csv(output_file, index=False)\n",
        "print(f\"\\nSaved merged data to {output_file}\")"
      ],
      "metadata": {
        "id": "BVFNoeyKrdT7",
        "colab": {
          "base_uri": "https://localhost:8080/"
        },
        "outputId": "bbe67124-446e-4a67-f2ef-1343dacb9bb4"
      },
      "execution_count": null,
      "outputs": [
        {
          "output_type": "stream",
          "name": "stdout",
          "text": [
            "\n",
            "Saved merged data to merged_all_yearsMansarovar.csv\n"
          ]
        }
      ]
    },
    {
      "cell_type": "code",
      "source": [
        "# 8. Download the file\n",
        "files.download(output_file)"
      ],
      "metadata": {
        "id": "Dy4953sArdWg",
        "colab": {
          "base_uri": "https://localhost:8080/",
          "height": 17
        },
        "outputId": "f4848459-b5c3-47a8-de5c-04fb4d5d741e"
      },
      "execution_count": null,
      "outputs": [
        {
          "output_type": "display_data",
          "data": {
            "text/plain": [
              "<IPython.core.display.Javascript object>"
            ],
            "application/javascript": [
              "\n",
              "    async function download(id, filename, size) {\n",
              "      if (!google.colab.kernel.accessAllowed) {\n",
              "        return;\n",
              "      }\n",
              "      const div = document.createElement('div');\n",
              "      const label = document.createElement('label');\n",
              "      label.textContent = `Downloading \"${filename}\": `;\n",
              "      div.appendChild(label);\n",
              "      const progress = document.createElement('progress');\n",
              "      progress.max = size;\n",
              "      div.appendChild(progress);\n",
              "      document.body.appendChild(div);\n",
              "\n",
              "      const buffers = [];\n",
              "      let downloaded = 0;\n",
              "\n",
              "      const channel = await google.colab.kernel.comms.open(id);\n",
              "      // Send a message to notify the kernel that we're ready.\n",
              "      channel.send({})\n",
              "\n",
              "      for await (const message of channel.messages) {\n",
              "        // Send a message to notify the kernel that we're ready.\n",
              "        channel.send({})\n",
              "        if (message.buffers) {\n",
              "          for (const buffer of message.buffers) {\n",
              "            buffers.push(buffer);\n",
              "            downloaded += buffer.byteLength;\n",
              "            progress.value = downloaded;\n",
              "          }\n",
              "        }\n",
              "      }\n",
              "      const blob = new Blob(buffers, {type: 'application/binary'});\n",
              "      const a = document.createElement('a');\n",
              "      a.href = window.URL.createObjectURL(blob);\n",
              "      a.download = filename;\n",
              "      div.appendChild(a);\n",
              "      a.click();\n",
              "      div.remove();\n",
              "    }\n",
              "  "
            ]
          },
          "metadata": {}
        },
        {
          "output_type": "display_data",
          "data": {
            "text/plain": [
              "<IPython.core.display.Javascript object>"
            ],
            "application/javascript": [
              "download(\"download_796e469d-774a-48dd-b0ad-4f830bb07fc5\", \"merged_all_yearsMansarovar.csv\", 2581055)"
            ]
          },
          "metadata": {}
        }
      ]
    },
    {
      "cell_type": "code",
      "source": [],
      "metadata": {
        "id": "jWW3lOdmrdhf"
      },
      "execution_count": null,
      "outputs": []
    },
    {
      "cell_type": "code",
      "source": [],
      "metadata": {
        "id": "iaqnol-0rdka"
      },
      "execution_count": null,
      "outputs": []
    },
    {
      "cell_type": "code",
      "source": [],
      "metadata": {
        "id": "9fKMRdPardnG"
      },
      "execution_count": null,
      "outputs": []
    },
    {
      "cell_type": "code",
      "source": [],
      "metadata": {
        "id": "Mrm_uwEFrdpi"
      },
      "execution_count": null,
      "outputs": []
    },
    {
      "cell_type": "code",
      "source": [],
      "metadata": {
        "id": "yXHCg-oFrds7"
      },
      "execution_count": null,
      "outputs": []
    }
  ]
}